{
 "cells": [
  {
   "cell_type": "code",
   "execution_count": 1,
   "metadata": {},
   "outputs": [],
   "source": [
    "# import the necessary libraries\n",
    "from pyforest import *\n",
    "import numpy_financial as npf\n",
    "from dateutil.relativedelta import relativedelta\n",
    "from datetime import date\n",
    "import pandas as pd \n",
    "# import streamlit as st #for frontend\n",
    "# app pour devis et facture mobile \n",
    "# avec envois automatique"
   ]
  },
  {
   "cell_type": "code",
   "execution_count": 2,
   "metadata": {},
   "outputs": [],
   "source": [
    "# Une feuille par controle de parametre \n",
    "# sort the file by date not alpha col = EcritureDate X\n",
    "# toutes les operations en cash superieures a 5K et total de ces operations\n",
    "# mettre toutes ces operations sur une feuille excel\n",
    "# CompteNum 531 = cash \n",
    "# CompteNum 471 = a mettre aussi \n",
    "# Loi statistique sur utilisation des chiffres recurrent \n",
    "# TVA recuperable - montant superieur comparant la cell total et la cell TVA recup \n",
    "# CompteNum TVA Mc = 4456610000 --- seulement les 3 premiers chiffres \n",
    "# CompteNum TVA FR = 4456620000\n",
    "# Compte 531 - solde progressif qui soit pas rouge et jamais crediteur - Nouvelle fiche\n",
    "# 10 plus grosses operations\n",
    "# for each compte num convert to str and use str contains"
   ]
  },
  {
   "cell_type": "code",
   "execution_count": 3,
   "metadata": {},
   "outputs": [],
   "source": [
    "# get data from excel function\n",
    "def get_data_from_excel(sheet, excelFileName):\n",
    "    path_excel = excelFileName \n",
    "    df = pd.read_excel(\n",
    "        io = path_excel,\n",
    "        engine = 'openpyxl',\n",
    "        sheet_name = sheet)\n",
    "    return df\n",
    "\n",
    "# function for process\n",
    "def process(excel_name, fec='FEC', Param='Param'): \n",
    "    # read in excel\n",
    "    param = get_data_from_excel(Param, excel_name)\n",
    "\n",
    "    # assign variables to the parameters\n",
    "    date = param['Date'][0]\n",
    "    company = param['Entreprise'][0]\n",
    "    montantcash = param['Cash'][0]\n",
    "\n",
    "    # read in FEC or read in as csv \n",
    "    df = get_data_from_excel(fec, excel_name)\n",
    "        \n",
    "    # sort df by date\n",
    "    df.sort_values(by = 'EcritureDate', inplace = True, ascending = True)\n",
    "    # get 10 largest txs\n",
    "    df['Montant'] = df['Montant'].str.replace(',', '.').astype(float)\n",
    "    big10 = df.nlargest(n=10, columns=['Montant'])\n",
    "    # get cash acct convert to str  Commence par 531 pas contains\n",
    "    df['CompteNum'] = df['CompteNum'].astype(str)\n",
    "    cash = df[df['CompteNum'].str.contains('531')]\n",
    "    # calculate progressive cash account\n",
    "    # if cash n+1 > n-1 flag those 2 txs\n",
    "    # add if for dates if they are all the same\n",
    "    if (cash.EcritureDate.eq(cash.EcritureDate.iloc[0]).all()) == True: \n",
    "        cash['AcctEspeces'] = 0\n",
    "    else:\n",
    "        cash['AcctEspeces'] = cash['Montant'].shift(-1)>cash['Montant']\n",
    "    # get cash tx larger than 5K\n",
    "    hcash = cash.loc[(df['Montant'] > montantcash)]\n",
    "    # get total cash txs\n",
    "    cash['Total Toutes Especes'] = cash['Montant'].sum()\n",
    "    # get TVA FR and MC and compare tva amount with purchase amount\n",
    "    tvafr = df[df['CompteNum'].str.contains('445662')]\n",
    "    tvafr = tvafr.loc[tvafr['Montant'] > tvafr['Montant'][-1]]\n",
    "\n",
    "    tvamc = df[df['CompteNum'].str.contains('445661')]\n",
    "    tvamc = tvamc.loc[tvamc['Montant'] > tvamc['Montant'][-1]]\n",
    "\n",
    "    # move the different dfs to different excel sheets\n",
    "    writer = pd.ExcelWriter(f'FEC_{company}_{date}.xlsx', engine='xlsxwriter')\n",
    "    tvafr.to_excel(writer, sheet_name = 'TVA FR')\n",
    "    tvamc.to_excel(writer, sheet_name = 'TVA MC')\n",
    "    big10.to_excel(writer, sheet_name = '10+ Operations')\n",
    "    hcash.to_excel(writer, sheet_name = f'Especes {montantcash}+')\n",
    "    cash.to_excel(writer, sheet_name = 'Compte Cash')\n",
    "    \n",
    "    writer.save()\n",
    "\n",
    "process('fec_param.xlsx')"
   ]
  },
  {
   "cell_type": "code",
   "execution_count": 5,
   "metadata": {},
   "outputs": [],
   "source": [
    "fec='FEC'\n",
    "Param='Param'\n",
    "excel_name = 'fec_param.xlsx'\n",
    "\n",
    "# read in excel\n",
    "param = get_data_from_excel(Param, excel_name)\n",
    "\n",
    "# assign variables to the parameters\n",
    "date = param['Date'][0]\n",
    "company = param['Entreprise'][0]\n",
    "montantcash = param['Montant Cash'][0]\n",
    "\n",
    "# read in FEC or read in as csv \n",
    "df = get_data_from_excel(fec, excel_name)\n",
    "# sort df by date\n",
    "df.sort_values(by = 'EcritureDate', inplace = True, ascending = True)\n",
    "\n",
    "# get 10 largest txs\n",
    "df['Montant'] = df['Montant'].astype(str)\n",
    "df['Montant'] = df['Montant'].str.replace(',', '.')\n",
    "df['Montant'] = df['Montant'].astype(float)\n",
    "big10 = df.nlargest(n=10, columns=['Montant'])\n"
   ]
  },
  {
   "cell_type": "code",
   "execution_count": 6,
   "metadata": {},
   "outputs": [
    {
     "name": "stderr",
     "output_type": "stream",
     "text": [
      "<ipython-input-6-5697b252fb30>:5: SettingWithCopyWarning: \n",
      "A value is trying to be set on a copy of a slice from a DataFrame.\n",
      "Try using .loc[row_indexer,col_indexer] = value instead\n",
      "\n",
      "See the caveats in the documentation: https://pandas.pydata.org/pandas-docs/stable/user_guide/indexing.html#returning-a-view-versus-a-copy\n",
      "  cash['AcctEspeces'] = cash['Montant'].shift(-1)>cash['Montant']\n"
     ]
    }
   ],
   "source": [
    "df['CompteNum'] = df['CompteNum'].astype(str)\n",
    "cash = df[df['CompteNum'].str.contains('531')]\n",
    "    # calculate progressive cash account\n",
    "    # if cash n+1 > n-1 flag those 2 txs\n",
    "cash['AcctEspeces'] = np.where(df['column'] == 'condition', 'result if yes', 'result if no')"
   ]
  },
  {
   "cell_type": "code",
   "execution_count": null,
   "metadata": {},
   "outputs": [],
   "source": []
  },
  {
   "cell_type": "code",
   "execution_count": null,
   "metadata": {},
   "outputs": [],
   "source": []
  },
  {
   "cell_type": "code",
   "execution_count": null,
   "metadata": {},
   "outputs": [],
   "source": []
  },
  {
   "cell_type": "code",
   "execution_count": null,
   "metadata": {},
   "outputs": [],
   "source": [
    "\"\"\" where cell ==  531 in CompteNum col\n",
    "loc cell >4999 in montant col\n",
    "\n",
    "where comptenum == 4456610000 or 4456620000\n",
    "loc if montant TVA > cell total (one right above)\n",
    "\n",
    "\"\"\"\n"
   ]
  }
 ],
 "metadata": {
  "kernelspec": {
   "display_name": "Python 3.8.3 ('base')",
   "language": "python",
   "name": "python3"
  },
  "language_info": {
   "codemirror_mode": {
    "name": "ipython",
    "version": 3
   },
   "file_extension": ".py",
   "mimetype": "text/x-python",
   "name": "python",
   "nbconvert_exporter": "python",
   "pygments_lexer": "ipython3",
   "version": "3.8.3"
  },
  "vscode": {
   "interpreter": {
    "hash": "211f82d1d98c61b213f5231535a17871fe0aa6d7b965b6ee1d683101a3457b25"
   }
  }
 },
 "nbformat": 4,
 "nbformat_minor": 4
}
